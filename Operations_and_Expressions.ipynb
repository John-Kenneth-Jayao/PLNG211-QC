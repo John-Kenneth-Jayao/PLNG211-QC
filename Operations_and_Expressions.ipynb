{
  "nbformat": 4,
  "nbformat_minor": 0,
  "metadata": {
    "colab": {
      "provenance": [],
      "authorship_tag": "ABX9TyOFdhmU6lU2j4sqksuYD3Ay",
      "include_colab_link": true
    },
    "kernelspec": {
      "name": "python3",
      "display_name": "Python 3"
    },
    "language_info": {
      "name": "python"
    }
  },
  "cells": [
    {
      "cell_type": "markdown",
      "metadata": {
        "id": "view-in-github",
        "colab_type": "text"
      },
      "source": [
        "<a href=\"https://colab.research.google.com/github/John-Kenneth-Jayao/PLNG211-QC/blob/main/Operations_and_Expressions.ipynb\" target=\"_parent\"><img src=\"https://colab.research.google.com/assets/colab-badge.svg\" alt=\"Open In Colab\"/></a>"
      ]
    },
    {
      "cell_type": "markdown",
      "source": [
        "Boolean Operators"
      ],
      "metadata": {
        "id": "n13j_-YBjobf"
      }
    },
    {
      "cell_type": "code",
      "source": [
        "print(10>9)\n",
        "print(10<9)\n",
        "print(10==9)\n",
        "\n",
        "\n"
      ],
      "metadata": {
        "colab": {
          "base_uri": "https://localhost:8080/"
        },
        "id": "9JbKYLeejnp9",
        "outputId": "9ec3ca2d-ac04-4164-def1-b8509d035396"
      },
      "execution_count": 10,
      "outputs": [
        {
          "output_type": "stream",
          "name": "stdout",
          "text": [
            "True\n",
            "False\n",
            "False\n"
          ]
        }
      ]
    },
    {
      "cell_type": "markdown",
      "source": [
        "Bool() Function\n"
      ],
      "metadata": {
        "id": "E_CyGimRks8f"
      }
    },
    {
      "cell_type": "code",
      "source": [
        "print(bool(15))\n",
        "print"
      ],
      "metadata": {
        "colab": {
          "base_uri": "https://localhost:8080/"
        },
        "id": "ILJyaH3nkxfS",
        "outputId": "b99fb972-d116-4db7-fff7-3ec704ed33f2"
      },
      "execution_count": 11,
      "outputs": [
        {
          "output_type": "stream",
          "name": "stdout",
          "text": [
            "True\n"
          ]
        }
      ]
    },
    {
      "cell_type": "markdown",
      "source": [
        "Function that returns a boolean\n"
      ],
      "metadata": {
        "id": "YhHIDnsill3k"
      }
    },
    {
      "cell_type": "code",
      "source": [
        "def my_Function():\n",
        "  return True\n",
        "\n",
        "if(my_Function()):\n",
        "  print(\"Yes!\")\n",
        "else:\n",
        "    print(\"No!\")\n",
        "\n",
        "    "
      ],
      "metadata": {
        "colab": {
          "base_uri": "https://localhost:8080/"
        },
        "id": "SjO4J6qzls0z",
        "outputId": "0d9a2995-b75b-425b-c544-dd74acb92a25"
      },
      "execution_count": 15,
      "outputs": [
        {
          "output_type": "stream",
          "name": "stdout",
          "text": [
            "Yes!\n"
          ]
        }
      ]
    },
    {
      "cell_type": "markdown",
      "source": [
        "Application \n"
      ],
      "metadata": {
        "id": "TYr5841ImwJ2"
      }
    },
    {
      "cell_type": "code",
      "source": [
        "c=6\n",
        "d=7\n",
        "print(c==d)\n",
        "print(c!=d)"
      ],
      "metadata": {
        "colab": {
          "base_uri": "https://localhost:8080/"
        },
        "id": "UGRXcf3Ym0m4",
        "outputId": "3e073348-3c90-430b-e0e0-b6e34d089eb4"
      },
      "execution_count": 17,
      "outputs": [
        {
          "output_type": "stream",
          "name": "stdout",
          "text": [
            "False\n",
            "True\n"
          ]
        }
      ]
    },
    {
      "cell_type": "markdown",
      "source": [
        "Python Operators"
      ],
      "metadata": {
        "id": "Wp_GFuAKo_i4"
      }
    },
    {
      "cell_type": "code",
      "source": [
        "print(10+9)\n",
        "print(10-9)\n",
        "print(10*9)\n",
        "print(10/5)    #division\n",
        "10//3          #Floor division\n",
        "print(10%3)    #remainder\n",
        "print(10**2) "
      ],
      "metadata": {
        "colab": {
          "base_uri": "https://localhost:8080/"
        },
        "id": "BJ3PheR5pGNS",
        "outputId": "10f316ce-0f5f-4661-a65a-00fd4571fe68"
      },
      "execution_count": 19,
      "outputs": [
        {
          "output_type": "stream",
          "name": "stdout",
          "text": [
            "19\n",
            "1\n",
            "90\n",
            "2.0\n",
            "1\n",
            "100\n"
          ]
        }
      ]
    },
    {
      "cell_type": "markdown",
      "source": [
        "Bitwise Operators\n"
      ],
      "metadata": {
        "id": "wSpm0d2jsBkY"
      }
    },
    {
      "cell_type": "code",
      "source": [
        "e = 60\n",
        "f = 13\n",
        "e ^  f"
      ],
      "metadata": {
        "colab": {
          "base_uri": "https://localhost:8080/"
        },
        "id": "28jRCtW2sGCm",
        "outputId": "0343eac0-e045-4a13-8bbd-b1761ebc0a0c"
      },
      "execution_count": 23,
      "outputs": [
        {
          "output_type": "execute_result",
          "data": {
            "text/plain": [
              "49"
            ]
          },
          "metadata": {},
          "execution_count": 23
        }
      ]
    },
    {
      "cell_type": "markdown",
      "source": [
        "Python Assignment Operator"
      ],
      "metadata": {
        "id": "UuXh88KYtcJ9"
      }
    },
    {
      "cell_type": "code",
      "source": [
        "x = 4\n",
        "x+=3  #x = x+3, x = 4+3 = 7\n",
        "print(\"x =\", x)"
      ],
      "metadata": {
        "colab": {
          "base_uri": "https://localhost:8080/"
        },
        "id": "L5RtqonWtgkl",
        "outputId": "221b8e88-6efd-4b42-94d8-c61738f74115"
      },
      "execution_count": 27,
      "outputs": [
        {
          "output_type": "stream",
          "name": "stdout",
          "text": [
            "x = 7\n"
          ]
        }
      ]
    },
    {
      "cell_type": "markdown",
      "source": [
        "Logical Operator\n"
      ],
      "metadata": {
        "id": "kQiP0ISKuvEG"
      }
    },
    {
      "cell_type": "code",
      "source": [
        "print((4>3) and (5==5))   #and\n",
        "print((6==6) or (6!=6))   #or"
      ],
      "metadata": {
        "colab": {
          "base_uri": "https://localhost:8080/"
        },
        "id": "Z9WxuQ19uxvz",
        "outputId": "cc450076-992a-4082-deae-c7ca284590db"
      },
      "execution_count": 28,
      "outputs": [
        {
          "output_type": "execute_result",
          "data": {
            "text/plain": [
              "True"
            ]
          },
          "metadata": {},
          "execution_count": 28
        }
      ]
    },
    {
      "cell_type": "markdown",
      "source": [
        "Identity Operators\n"
      ],
      "metadata": {
        "id": "6gF9Aj0Pvq6e"
      }
    },
    {
      "cell_type": "code",
      "source": [
        "print(4 is 3) \n",
        "print(7 is not 7)"
      ],
      "metadata": {
        "colab": {
          "base_uri": "https://localhost:8080/"
        },
        "id": "H35Omepkvv8N",
        "outputId": "5bbbf7f5-0789-49cc-d79e-d31eb2f592b3"
      },
      "execution_count": 29,
      "outputs": [
        {
          "output_type": "stream",
          "name": "stdout",
          "text": [
            "False\n",
            "False\n"
          ]
        }
      ]
    }
  ]
}