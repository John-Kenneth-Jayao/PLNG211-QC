{
  "nbformat": 4,
  "nbformat_minor": 0,
  "metadata": {
    "colab": {
      "provenance": [],
      "authorship_tag": "ABX9TyM/xtn9AeK5W4IovdRTBPI0",
      "include_colab_link": true
    },
    "kernelspec": {
      "name": "python3",
      "display_name": "Python 3"
    },
    "language_info": {
      "name": "python"
    }
  },
  "cells": [
    {
      "cell_type": "markdown",
      "metadata": {
        "id": "view-in-github",
        "colab_type": "text"
      },
      "source": [
        "<a href=\"https://colab.research.google.com/github/John-Kenneth-Jayao/PLNG211-QC/blob/main/Control_and_Looping_Statement.ipynb\" target=\"_parent\"><img src=\"https://colab.research.google.com/assets/colab-badge.svg\" alt=\"Open In Colab\"/></a>"
      ]
    },
    {
      "cell_type": "code",
      "execution_count": null,
      "metadata": {
        "id": "iQpWVhY920uT"
      },
      "outputs": [],
      "source": [
        "#if statement\n",
        "\n"
      ]
    },
    {
      "cell_type": "code",
      "source": [
        "a = 12 \n",
        "b = 100\n",
        "\n",
        "if a<b:\n",
        " print(\"a less than b\")"
      ],
      "metadata": {
        "colab": {
          "base_uri": "https://localhost:8080/"
        },
        "id": "008fIrqq3E51",
        "outputId": "3d875463-822a-423c-edf1-982e5ff15ef4"
      },
      "execution_count": 4,
      "outputs": [
        {
          "output_type": "stream",
          "name": "stdout",
          "text": [
            "a less than b\n"
          ]
        }
      ]
    },
    {
      "cell_type": "markdown",
      "source": [
        "#Elif Statement\n"
      ],
      "metadata": {
        "id": "U75_PAOt3lYt"
      }
    },
    {
      "cell_type": "code",
      "source": [
        "if a<b:\n",
        "  print(\"a less than b\")\n",
        "elif a>b:\n",
        "  print(\"a is greater than b\")\n",
        " "
      ],
      "metadata": {
        "colab": {
          "base_uri": "https://localhost:8080/"
        },
        "id": "uNrm0vIg3rNV",
        "outputId": "dbe051ce-4547-4479-8248-c72934fa5c2d"
      },
      "execution_count": 6,
      "outputs": [
        {
          "output_type": "stream",
          "name": "stdout",
          "text": [
            "a less than b\n"
          ]
        }
      ]
    },
    {
      "cell_type": "markdown",
      "source": [
        "#Else statement\n"
      ],
      "metadata": {
        "id": "hXgMosWT4HDc"
      }
    },
    {
      "cell_type": "code",
      "source": [
        "if a<b:\n",
        "  print(\"a less than b\")\n",
        "elif a>b:\n",
        "  print(\"a is greater than b\")\n",
        "else:\n",
        "   print('a is equal to b')"
      ],
      "metadata": {
        "colab": {
          "base_uri": "https://localhost:8080/"
        },
        "id": "KoHIzLhs4MzN",
        "outputId": "85d7c1e1-8335-48bc-e6a2-61be9a1c6820"
      },
      "execution_count": 11,
      "outputs": [
        {
          "output_type": "stream",
          "name": "stdout",
          "text": [
            "a less than b\n"
          ]
        }
      ]
    },
    {
      "cell_type": "markdown",
      "source": [
        "Shorthand if Statement\n"
      ],
      "metadata": {
        "id": "xaK4cMiO4m59"
      }
    },
    {
      "cell_type": "code",
      "source": [
        "c = 5\n",
        "d = 10\n",
        "\n",
        "if c>d: print(\"c is greater than b\")"
      ],
      "metadata": {
        "id": "aKiu2wjA4qA3"
      },
      "execution_count": 14,
      "outputs": []
    },
    {
      "cell_type": "markdown",
      "source": [
        "Short hand if else Statement\n"
      ],
      "metadata": {
        "id": "QRTR_7FW5IqP"
      }
    },
    {
      "cell_type": "code",
      "source": [
        "print('c>d') if c>d else print('d>c')"
      ],
      "metadata": {
        "colab": {
          "base_uri": "https://localhost:8080/"
        },
        "id": "j3QCjf3m5MkV",
        "outputId": "c5db5508-03b4-4e62-d1db-0dc9d9a8df56"
      },
      "execution_count": 15,
      "outputs": [
        {
          "output_type": "stream",
          "name": "stdout",
          "text": [
            "d>c\n"
          ]
        }
      ]
    },
    {
      "cell_type": "markdown",
      "source": [
        "#And Statement\n"
      ],
      "metadata": {
        "id": "taqPxZ1V6AbN"
      }
    },
    {
      "cell_type": "code",
      "source": [
        "if 5>10 and 8<4:\n",
        "  print(\"Both statement are true\")\n",
        "else:\n",
        "  print(\"one of the statement is false/ both statement is not true\")"
      ],
      "metadata": {
        "colab": {
          "base_uri": "https://localhost:8080/"
        },
        "id": "6kzu_UYA6Q7c",
        "outputId": "8c4f52a0-7b9a-4ceb-e421-e45308a42818"
      },
      "execution_count": 20,
      "outputs": [
        {
          "output_type": "stream",
          "name": "stdout",
          "text": [
            "one of the statement is false/ both statement is not true\n"
          ]
        }
      ]
    },
    {
      "cell_type": "markdown",
      "source": [
        "#OR statement"
      ],
      "metadata": {
        "id": "uRIM4Bpb7HQA"
      }
    },
    {
      "cell_type": "code",
      "source": [
        "if 5>10 and 8<4:\n",
        "  print(\"true\")\n",
        "else:\n",
        "  print(\"false\")"
      ],
      "metadata": {
        "colab": {
          "base_uri": "https://localhost:8080/"
        },
        "id": "I5vXU_577Q__",
        "outputId": "40f9c5fd-c51d-4e1d-a7b6-ae646a5e7990"
      },
      "execution_count": 21,
      "outputs": [
        {
          "output_type": "stream",
          "name": "stdout",
          "text": [
            "false\n"
          ]
        }
      ]
    },
    {
      "cell_type": "markdown",
      "source": [
        "#Bitwise operator using ^ (xor)"
      ],
      "metadata": {
        "id": "mgWfMCdK73YB"
      }
    },
    {
      "cell_type": "code",
      "source": [
        "e = 4\n",
        "f = 2 \n",
        "\n",
        "e^f\n"
      ],
      "metadata": {
        "colab": {
          "base_uri": "https://localhost:8080/"
        },
        "id": "b9E9Jad28BcB",
        "outputId": "f198acc6-3ad1-47af-a03a-062195c52b71"
      },
      "execution_count": 22,
      "outputs": [
        {
          "output_type": "execute_result",
          "data": {
            "text/plain": [
              "6"
            ]
          },
          "metadata": {},
          "execution_count": 22
        }
      ]
    },
    {
      "cell_type": "markdown",
      "source": [
        "#Nested if statement"
      ],
      "metadata": {
        "id": "II9Ll6-I9t-P"
      }
    },
    {
      "cell_type": "code",
      "source": [
        "x = 41 \n",
        "if x>10:\n",
        "  print(\"number is above 10\")\n",
        "  if x>20:\n",
        "   print (\"number is above 20\")\n",
        "   if x>30:\n",
        "    print (\"number is above 30\")\n",
        "   if x>40:\n",
        "     print (\"number is above 40\")\n",
        "     if x>50:\n",
        "       print(\"number is above 50\")\n",
        "        \n",
        " "
      ],
      "metadata": {
        "colab": {
          "base_uri": "https://localhost:8080/"
        },
        "id": "LjBoPz2g9x1q",
        "outputId": "21e6d9b3-a2ca-4334-845a-81412c5bf941"
      },
      "execution_count": 44,
      "outputs": [
        {
          "output_type": "stream",
          "name": "stdout",
          "text": [
            "number is above 10\n",
            "number is above 20\n",
            "number is above 30\n",
            "number is above 40\n"
          ]
        }
      ]
    },
    {
      "cell_type": "markdown",
      "source": [
        "#write  a program that determines  if the input age is qualified to vote or not \n",
        "#The qualifying age is 18 years old  and above."
      ],
      "metadata": {
        "id": "HIDRMZCI_ZXH"
      }
    },
    {
      "cell_type": "code",
      "source": [
        "a = 18\n",
        "b = 17\n",
        "if a>=b:\n",
        " print(\"You are qualified to vote\")\n",
        "else:\n",
        "  print(\" You are not  qualified to vote\") \n",
        "\n"
      ],
      "metadata": {
        "colab": {
          "base_uri": "https://localhost:8080/"
        },
        "id": "su9vCAPI_74m",
        "outputId": "e0c5d013-36d5-4f26-a785-971e9c48f4b0"
      },
      "execution_count": 43,
      "outputs": [
        {
          "output_type": "stream",
          "name": "stdout",
          "text": [
            "You are qualified to vote\n"
          ]
        }
      ]
    },
    {
      "cell_type": "markdown",
      "source": [
        "#For loop statement"
      ],
      "metadata": {
        "id": "1Luth_zXC0dz"
      }
    },
    {
      "cell_type": "code",
      "source": [
        "week = [\"sunday \",\"monday\",\"tuesday\",\"wednesday\",\"thursday\",\"friday\",\"saturday\"]\n",
        "for y in week:\n",
        " print(y)"
      ],
      "metadata": {
        "colab": {
          "base_uri": "https://localhost:8080/"
        },
        "id": "hWsIZr8uC4E3",
        "outputId": "809a9cbe-8fe3-4b56-8023-d8d5c5d6a1f7"
      },
      "execution_count": 55,
      "outputs": [
        {
          "output_type": "stream",
          "name": "stdout",
          "text": [
            "sunday \n",
            "monday\n",
            "tuesday\n",
            "wednesday\n",
            "thursday\n",
            "friday\n",
            "saturday\n"
          ]
        }
      ]
    },
    {
      "cell_type": "markdown",
      "source": [
        "#Break loop statement"
      ],
      "metadata": {
        "id": "B31pPNPfEUJM"
      }
    },
    {
      "cell_type": "code",
      "source": [
        "week = [\"sunday \",\"monday\",\"tuesday\",\"wednesday\",\"thursday\",\"friday\",\"saturday\"]\n",
        "for y in week:\n",
        " print(y)\n",
        " if y== \"thursday\":\n",
        "   break"
      ],
      "metadata": {
        "colab": {
          "base_uri": "https://localhost:8080/"
        },
        "id": "z2EcAotBEW-F",
        "outputId": "8e921ffa-964a-4ad1-a11c-b154b88f52b8"
      },
      "execution_count": 56,
      "outputs": [
        {
          "output_type": "stream",
          "name": "stdout",
          "text": [
            "sunday \n",
            "monday\n",
            "tuesday\n",
            "wednesday\n",
            "thursday\n"
          ]
        }
      ]
    },
    {
      "cell_type": "code",
      "source": [
        "for x  in \"week\":\n",
        "  print(x)"
      ],
      "metadata": {
        "colab": {
          "base_uri": "https://localhost:8080/"
        },
        "id": "91MSUHckFMY3",
        "outputId": "43f5973d-8e3e-419c-c725-79d2466e026f"
      },
      "execution_count": 57,
      "outputs": [
        {
          "output_type": "stream",
          "name": "stdout",
          "text": [
            "w\n",
            "e\n",
            "e\n",
            "k\n"
          ]
        }
      ]
    },
    {
      "cell_type": "code",
      "source": [
        "#range () function\n",
        "\n",
        "for x in  range (6):\n",
        "  print(x)"
      ],
      "metadata": {
        "colab": {
          "base_uri": "https://localhost:8080/"
        },
        "id": "BiVMIbWLFS6t",
        "outputId": "b71b0c59-d907-43b6-9b16-88d01944e641"
      },
      "execution_count": 58,
      "outputs": [
        {
          "output_type": "stream",
          "name": "stdout",
          "text": [
            "0\n",
            "1\n",
            "2\n",
            "3\n",
            "4\n",
            "5\n"
          ]
        }
      ]
    },
    {
      "cell_type": "code",
      "source": [
        "for  x in range(2,6,2):\n",
        "  print(x)"
      ],
      "metadata": {
        "colab": {
          "base_uri": "https://localhost:8080/"
        },
        "id": "FKvRZoqWFg1l",
        "outputId": "7fdb11f3-b701-4d5d-c524-0e329dc1668a"
      },
      "execution_count": 62,
      "outputs": [
        {
          "output_type": "stream",
          "name": "stdout",
          "text": [
            "2\n",
            "4\n"
          ]
        }
      ]
    },
    {
      "cell_type": "code",
      "source": [
        "#Nested loops\n",
        "\n",
        "adjective = [\"red\",\"big\",\"tasty\"]\n",
        "fruits =  [\"apple\",\"banana\",\"cherry\"]\n",
        "\n",
        "for x in adjective:\n",
        "  for y in fruits:\n",
        "    print(x,y)"
      ],
      "metadata": {
        "colab": {
          "base_uri": "https://localhost:8080/"
        },
        "id": "aRjOo5rjGUq9",
        "outputId": "c39a3836-68e6-4100-8abb-19f3fe083fae"
      },
      "execution_count": 63,
      "outputs": [
        {
          "output_type": "stream",
          "name": "stdout",
          "text": [
            "red apple\n",
            "red banana\n",
            "red cherry\n",
            "big apple\n",
            "big banana\n",
            "big cherry\n",
            "tasty apple\n",
            "tasty banana\n",
            "tasty cherry\n"
          ]
        }
      ]
    },
    {
      "cell_type": "code",
      "source": [
        "i=1 \n",
        "while i<6:\n",
        "  print(i)\n",
        "  i+=1"
      ],
      "metadata": {
        "colab": {
          "base_uri": "https://localhost:8080/"
        },
        "id": "ixvKYce_HjQd",
        "outputId": "29f78d8e-20c8-4cb4-83b6-92c09e3c99f4"
      },
      "execution_count": 68,
      "outputs": [
        {
          "output_type": "stream",
          "name": "stdout",
          "text": [
            "1\n",
            "2\n",
            "3\n",
            "4\n",
            "5\n"
          ]
        }
      ]
    },
    {
      "cell_type": "code",
      "source": [
        "i=1 \n",
        "while i<6:\n",
        "  print(i)\n",
        "  if i==3:\n",
        "    break\n",
        "  i+=1"
      ],
      "metadata": {
        "colab": {
          "base_uri": "https://localhost:8080/"
        },
        "id": "boVfq6IcIT8r",
        "outputId": "7a2f513b-bae4-45f6-f090-548906013e06"
      },
      "execution_count": 69,
      "outputs": [
        {
          "output_type": "stream",
          "name": "stdout",
          "text": [
            "1\n",
            "2\n",
            "3\n"
          ]
        }
      ]
    },
    {
      "cell_type": "code",
      "source": [
        "#using while  loop  and break statement, the output is 3 only\n",
        "i = 3 \n",
        "while i<=3:\n",
        "  print(i)\n",
        "  break\n"
      ],
      "metadata": {
        "colab": {
          "base_uri": "https://localhost:8080/"
        },
        "id": "-lbL2Z8KIlpE",
        "outputId": "f4da5fbe-2c5a-4d7a-a4d4-ffcc99001227"
      },
      "execution_count": 70,
      "outputs": [
        {
          "output_type": "stream",
          "name": "stdout",
          "text": [
            "3\n"
          ]
        }
      ]
    },
    {
      "cell_type": "code",
      "source": [
        "#Application 2. Write a program that determines if the input number is POSITIVE,NEGATIVE,OR ZERO\n",
        "\n",
        "num = input (\"Enter num\")\n",
        "if int(num)>0:\n",
        "  print(\"The number is positive\")\n",
        "elif int(num)<0:\n",
        "  print(\"The number is negative\")\n",
        "else:\n",
        "  print(\"The number is Zero\")"
      ],
      "metadata": {
        "colab": {
          "base_uri": "https://localhost:8080/"
        },
        "id": "vWX_5oSBMkTM",
        "outputId": "2730950b-1980-4493-bd76-fec1a5089f97"
      },
      "execution_count": 71,
      "outputs": [
        {
          "output_type": "stream",
          "name": "stdout",
          "text": [
            "Enter num1\n",
            "The number is positive\n"
          ]
        }
      ]
    }
  ]
}