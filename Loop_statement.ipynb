{
  "nbformat": 4,
  "nbformat_minor": 0,
  "metadata": {
    "colab": {
      "provenance": [],
      "authorship_tag": "ABX9TyMYUUvwrXEj1ZlR8goN/GYV",
      "include_colab_link": true
    },
    "kernelspec": {
      "name": "python3",
      "display_name": "Python 3"
    },
    "language_info": {
      "name": "python"
    }
  },
  "cells": [
    {
      "cell_type": "markdown",
      "metadata": {
        "id": "view-in-github",
        "colab_type": "text"
      },
      "source": [
        "<a href=\"https://colab.research.google.com/github/John-Kenneth-Jayao/PLNG211-QC/blob/main/Loop_statement.ipynb\" target=\"_parent\"><img src=\"https://colab.research.google.com/assets/colab-badge.svg\" alt=\"Open In Colab\"/></a>"
      ]
    },
    {
      "cell_type": "code",
      "execution_count": 5,
      "metadata": {
        "colab": {
          "base_uri": "https://localhost:8080/"
        },
        "id": "0_WqLF-o2Dbp",
        "outputId": "08462349-40a2-4790-9c5f-ddcd1e24b501"
      },
      "outputs": [
        {
          "output_type": "stream",
          "name": "stdout",
          "text": [
            "1\n",
            "2\n",
            "3\n"
          ]
        }
      ],
      "source": [
        "#break Statement  \n",
        "\n",
        "i = 1\n",
        "while i<6:\n",
        " print(i)\n",
        " if i==3:\n",
        "   break\n",
        " i +=1  #increment , i = i + 1\n",
        " "
      ]
    },
    {
      "cell_type": "code",
      "source": [
        "#break Statement Applcation 1\n",
        "# Display only 3 after using break Statement\n",
        "\n",
        "i = 1\n",
        "while i<6:\n",
        "  if i==3:\n",
        "    print(i)\n",
        "    break\n",
        "  i+=1\n",
        "\n",
        "\n",
        "  "
      ],
      "metadata": {
        "colab": {
          "base_uri": "https://localhost:8080/"
        },
        "id": "-SyKpqWn2Y9N",
        "outputId": "35b8c952-a9d6-4961-8b49-cbefe4586df7"
      },
      "execution_count": 45,
      "outputs": [
        {
          "output_type": "stream",
          "name": "stdout",
          "text": [
            "3\n"
          ]
        }
      ]
    },
    {
      "cell_type": "code",
      "source": [
        "#continue Statement\n",
        "\n",
        "i = 0\n",
        "while i<6:\n",
        " i +=1\n",
        " if i==3:\n",
        "  continue\n",
        " print(i)"
      ],
      "metadata": {
        "colab": {
          "base_uri": "https://localhost:8080/"
        },
        "id": "q5vofcUr2UvY",
        "outputId": "6b990be5-452b-4353-98b8-a8ad9570baeb"
      },
      "execution_count": 12,
      "outputs": [
        {
          "output_type": "stream",
          "name": "stdout",
          "text": [
            "1\n",
            "2\n",
            "4\n",
            "5\n",
            "6\n"
          ]
        }
      ]
    },
    {
      "cell_type": "code",
      "source": [
        "#Else statment\n",
        "\n",
        "i = 1\n",
        "while i<6:\n",
        "  print(i)\n",
        "  i +=1\n",
        "else:\n",
        "  print(\"i is no longer less than 6\")"
      ],
      "metadata": {
        "colab": {
          "base_uri": "https://localhost:8080/"
        },
        "id": "kfWWN8136LvV",
        "outputId": "1c849109-e196-429f-a31f-623dd55bec0b"
      },
      "execution_count": 14,
      "outputs": [
        {
          "output_type": "stream",
          "name": "stdout",
          "text": [
            "1\n",
            "2\n",
            "3\n",
            "4\n",
            "5\n",
            "i is no longer less than 6\n"
          ]
        }
      ]
    },
    {
      "cell_type": "code",
      "source": [
        "#Application 2 create a python that display hello-0 -- hello10:\n",
        "\n",
        "i =  0\n",
        "while i<=10:\n",
        " print(\"Hello\" ,i)\n",
        " i+=1\n",
        " \n",
        "  \n"
      ],
      "metadata": {
        "colab": {
          "base_uri": "https://localhost:8080/"
        },
        "id": "4W-51O--6WKt",
        "outputId": "45e01dbc-b83c-43f1-a15d-403d1e7b56ab"
      },
      "execution_count": 31,
      "outputs": [
        {
          "output_type": "stream",
          "name": "stdout",
          "text": [
            "Hello 0\n",
            "Hello 1\n",
            "Hello 2\n",
            "Hello 3\n",
            "Hello 4\n",
            "Hello 5\n",
            "Hello 6\n",
            "Hello 7\n",
            "Hello 8\n",
            "Hello 9\n",
            "Hello 10\n"
          ]
        }
      ]
    },
    {
      "cell_type": "code",
      "source": [
        "#Application 3\n",
        "#Create a  python program that display intergers less than 10 but not less than 3\n",
        "\n",
        "i = 3\n",
        "while i<10:\n",
        "  print(i)\n",
        "  i +=1"
      ],
      "metadata": {
        "colab": {
          "base_uri": "https://localhost:8080/"
        },
        "id": "HVvSO5pe-MlF",
        "outputId": "27b4103d-39a0-4503-e958-6f3bc6258f7b"
      },
      "execution_count": 35,
      "outputs": [
        {
          "output_type": "stream",
          "name": "stdout",
          "text": [
            "3\n",
            "4\n",
            "5\n",
            "6\n",
            "7\n",
            "8\n",
            "9\n"
          ]
        }
      ]
    },
    {
      "cell_type": "code",
      "source": [],
      "metadata": {
        "id": "lYpZP53C-rpz"
      },
      "execution_count": null,
      "outputs": []
    }
  ]
}